{
 "cells": [
  {
   "cell_type": "markdown",
   "metadata": {},
   "source": [
    "# Sudoku Generation\n",
    "\n",
    "This notebook is used to create functions and use them to create various sudoku grids using sudoku shuffling techniques as well as create sudoku problems from the solved grids and then solved them again.\n",
    "\n",
    "The functions used throughout this notebook generally take as an input an 81-digit long string rather than a (`NumPy`) array to which the string is often converted inside the functions. This is mainly because I believe it is more user-friendly to take the sudoku problem and write it down line by line (starting in the upper left corner) than to create an array.\n",
    "\n",
    "A valid sudoku table has following [properties](https://en.wikipedia.org/wiki/Sudoku_solving_algorithms):\n",
    "* contains 81 numbers (cells in a 9x9 grid with 9 boxes)\n",
    "* each box being the intersection of the first, middle, or last 3 rows, and the first, middle, or last 3 columns\n",
    "* each cell contains number from 1 to 9\n",
    "* each number can only occur once in each row, column and box\n",
    "\n",
    "In sudoku, you can do following operations to keep the table valid:\n",
    "* swap row/column blocks\n",
    "* swap all occurances of one number with all occurances of another number\n",
    "* swap rows/columns in a block\n",
    "\n",
    "By doing such operations, you can create many new sudoku tables that will eventually result in a different problems using one input. \n",
    "\n",
    "The packages used throughout the code are `NumPy`, `Random`, and `matplotlib.pyplot`. Let's import them now."
   ]
  },
  {
   "cell_type": "code",
   "execution_count": 2,
   "metadata": {},
   "outputs": [],
   "source": [
    "import random\n",
    "import numpy as np\n",
    "import matplotlib.pyplot as plt"
   ]
  },
  {
   "cell_type": "markdown",
   "metadata": {},
   "source": [
    "## Creation of Solved Sudokus\n",
    "\n",
    "#### Creation of Necessary Functions\n",
    "Let's now create a set of functions that will randomly apply the shuffling rules on existing sudoku table."
   ]
  },
  {
   "cell_type": "code",
   "execution_count": 3,
   "metadata": {},
   "outputs": [],
   "source": [
    "# swap all occurances of two numbers in a grid\n",
    "def swap_numbers(grid, x, y):\n",
    "    return grid.replace(x, 'x').replace(y, x).replace('x', y)\n",
    "\n",
    "# swap rows within a block\n",
    "def swap_rows(grid):\n",
    "    # extract rows\n",
    "    rows = [grid[i*9:(i+1)*9] for i in range(9)]\n",
    "    \n",
    "    # shuffle rows within blocks\n",
    "    for i in range(0, 9, 3):\n",
    "        block_rows = rows[i:i+3]\n",
    "        random.shuffle(block_rows)\n",
    "        rows[i:i+3] = block_rows\n",
    "    \n",
    "    # reconstruct grid\n",
    "    return ''.join(rows)\n",
    "\n",
    "# swap columns within a block\n",
    "def swap_columns(grid):\n",
    "    # extract columns\n",
    "    columns = []\n",
    "    for i in range(9):\n",
    "        column = [int(grid[j*9 + i]) for j in range(9)]\n",
    "        columns.append(column)\n",
    "    \n",
    "    # shuffle columns within blocks\n",
    "    for i in range(0, 9, 3):\n",
    "        block_columns = columns[i:i+3]\n",
    "        random.shuffle(block_columns)\n",
    "        columns[i:i+3] = block_columns\n",
    "    \n",
    "    # reconstruct grid\n",
    "    return ''.join(''.join(str(columns[j][i]) for j in range(9)) for i in range(9))\n",
    "\n",
    "# swap blocks of rows\n",
    "def swap_row_blocks(grid):\n",
    "    # extract rows\n",
    "    rows = [grid[i*9:(i+1)*9] for i in range(9)]\n",
    "    \n",
    "    # group rows into blocks\n",
    "    row_blocks = [rows[i*3:(i+1)*3] for i in range(3)]\n",
    "    \n",
    "    # shuffle row blocks\n",
    "    random.shuffle(row_blocks)\n",
    "    \n",
    "    # reconstruct grid\n",
    "    return ''.join([''.join(block) for block in row_blocks])\n",
    "\n",
    "# swap blocks of columns\n",
    "def swap_column_blocks(grid):\n",
    "    # extract columns\n",
    "    columns = []\n",
    "    for i in range(9):\n",
    "        column = [int(grid[j*9 + i]) for j in range(9)]\n",
    "        columns.append(column)\n",
    "    \n",
    "    # group columns into blocks\n",
    "    blocks = [columns[i:i+3] for i in range(0, 9, 3)]\n",
    "    \n",
    "    # shuffle column blocks\n",
    "    random.shuffle(blocks)\n",
    "    \n",
    "    # reconstruct grid\n",
    "    shuffled_columns = [col for block in blocks for col in block]\n",
    "    return ''.join(''.join(str(shuffled_columns[j][i]) for j in range(9)) for i in range(9))\n",
    "\n",
    "# generate a randomly shuffled sudoku grid\n",
    "def sudoku_shuffle(grid):\n",
    "    # swap random times two random numbers\n",
    "    reps=random.randint(1, 9)\n",
    "    while reps>0:\n",
    "        num1, num2 = random.sample('123456789', 2)\n",
    "        grid = swap_numbers(grid, num1, num2)\n",
    "        reps-=1\n",
    "    \n",
    "    # swap rows within blocks\n",
    "    grid = swap_row_blocks(grid)\n",
    "    \n",
    "    # swap columns within blocks\n",
    "    grid = swap_column_blocks(grid)\n",
    "    \n",
    "    # swap row blocks\n",
    "    grid = swap_row_blocks(grid)\n",
    "    \n",
    "    # swap column blocks\n",
    "    grid = swap_column_blocks(grid)\n",
    "    \n",
    "    return grid"
   ]
  },
  {
   "cell_type": "markdown",
   "metadata": {},
   "source": [
    "#### Generation of Sudokus\n",
    "\n",
    "Let's define 1 sudoku grid that we know is valid. How do we know that? I created a function called `valid_sudoku()` that returns `True` if the specified input follows the rules described at the beginning of this notebook and returns `False` otherwise. The following block of code also contains the definition of `display_sudoku()` function that displays the sudoku in a user friendly format.\n",
    "\n",
    "After I define our sudoku grid, I apply  our function `sudoku_shuffle()` on it to create 500 new grids."
   ]
  },
  {
   "cell_type": "code",
   "execution_count": 35,
   "metadata": {},
   "outputs": [],
   "source": [
    "def valid_sudoku(grid):\n",
    "    # check if the input string has exactly 81 characters and contains only digits from 1 to 9\n",
    "    if len(grid) != 81 or not all(a in '123456789' for a in grid):\n",
    "        return False\n",
    "    \n",
    "    # check rows\n",
    "    for i in range(9):\n",
    "        row = [grid[j] for j in range(i*9, (i+1)*9)]\n",
    "        if not len(row) == len(set(row)):\n",
    "            return False\n",
    "\n",
    "    # check columns\n",
    "    for i in range(9):\n",
    "        column = [grid[j] for j in range(i, 81, 9)]\n",
    "        if not len(column) == len(set(column)):\n",
    "            return False\n",
    "\n",
    "    # check 3x3 sub-grids (boxes)\n",
    "    for i in range(0, 81, 27):  # i goes through the first cell of each 3x3 block in a row group\n",
    "        for j in range(0, 9, 3):  # j goes through each 3x3 block in a row group\n",
    "            box = [grid[k] for k in (\n",
    "                i + j, i + j + 1, i + j + 2,\n",
    "                i + j + 9, i + j + 10, i + j + 11,\n",
    "                i + j + 18, i + j + 19, i + j + 20\n",
    "            )]\n",
    "            if not len(box) == len(set(box)):\n",
    "                return False\n",
    "\n",
    "    return True\n",
    "\n",
    "\n",
    "def display_sudoku(sudoku_input):\n",
    "    # check if the input is a numpy array\n",
    "    if isinstance(sudoku_input, np.ndarray):\n",
    "        sudoku_str=sudoku_input[0]\n",
    "    # else using the given string\n",
    "    else:\n",
    "        sudoku_str=sudoku_input\n",
    "        \n",
    "    # create a 9x9 grid\n",
    "    grid = [[int(sudoku_str[i * 9 + j]) for j in range(9)] for i in range(9)]\n",
    "\n",
    "    # define how to format the grid\n",
    "    lines = []\n",
    "    for i, row in enumerate(grid):\n",
    "        if i % 3 == 0 and i != 0:\n",
    "            lines.append(\"-\" * 21)  # add horizontal separator\n",
    "\n",
    "        line = \"\"\n",
    "        for j, cell in enumerate(row):\n",
    "            if j % 3 == 0 and j != 0:\n",
    "                line += \"| \"  # add vertical separator\n",
    "            line += f\"{cell} \"  # append cell value\n",
    "        lines.append(line.rstrip())\n",
    "\n",
    "    # print the grid\n",
    "    return print(\"\\n\".join(lines)) "
   ]
  },
  {
   "cell_type": "markdown",
   "metadata": {},
   "source": [
    "Let's now define the sudoku, check if it is valid and display it."
   ]
  },
  {
   "cell_type": "code",
   "execution_count": 5,
   "metadata": {},
   "outputs": [
    {
     "name": "stdout",
     "output_type": "stream",
     "text": [
      "1 2 3 | 4 5 6 | 7 8 9\n",
      "4 5 6 | 7 8 9 | 1 2 3\n",
      "7 8 9 | 1 2 3 | 4 5 6\n",
      "---------------------\n",
      "2 3 4 | 5 6 7 | 8 9 1\n",
      "5 6 7 | 8 9 1 | 2 3 4\n",
      "8 9 1 | 2 3 4 | 5 6 7\n",
      "---------------------\n",
      "3 4 5 | 6 7 8 | 9 1 2\n",
      "6 7 8 | 9 1 2 | 3 4 5\n",
      "9 1 2 | 3 4 5 | 6 7 8\n"
     ]
    },
    {
     "data": {
      "text/plain": [
       "(True, None)"
      ]
     },
     "execution_count": 5,
     "metadata": {},
     "output_type": "execute_result"
    }
   ],
   "source": [
    "# sudoku definition\n",
    "sudoku = '123456789456789123789123456234567891567891234891234567345678912678912345912345678'\n",
    "valid_sudoku(sudoku), display_sudoku(sudoku) # should return True"
   ]
  },
  {
   "cell_type": "markdown",
   "metadata": {},
   "source": [
    "Finally, I generate 500 shuflles of the inital sudoku. While doing so, I check that the created sudokus are properly defined and then we select only unique outputs. We are using a NumPy array for better performance."
   ]
  },
  {
   "cell_type": "code",
   "execution_count": 44,
   "metadata": {},
   "outputs": [
    {
     "data": {
      "text/plain": [
       "(499,\n",
       " array(['123546789546789123789123546354678912678912354912354678235467891467891235891235467',\n",
       "        '123756489756489123489123756375648912648912375912375648237564891564891237891237564',\n",
       "        '123874956956123874874956123239741568568239741741568239395412687687395412412687395',\n",
       "        '124386957386957124957124386243869571869571243571243869438695712695712438712438695',\n",
       "        '126384975384975126975126384512638497638497512497512638751263849263849751849751263'],\n",
       "       dtype='<U81'))"
      ]
     },
     "execution_count": 44,
     "metadata": {},
     "output_type": "execute_result"
    }
   ],
   "source": [
    "\n",
    "# generate 500 shuffled sudokus\n",
    "reps_num = 500\n",
    "results_array = np.empty((reps_num,), dtype='U81')\n",
    "\n",
    "for i in range(reps_num):\n",
    "    if valid_sudoku(sudoku_shuffle(sudoku)):\n",
    "        results_array[i] = sudoku_shuffle(sudoku)\n",
    "\n",
    "# select only unique results  \n",
    "results_array = np.unique(results_array)\n",
    "\n",
    "# check how many unique sudokus were generated and display the first 5\n",
    "results_array.shape[0], results_array[:5]\n"
   ]
  },
  {
   "cell_type": "markdown",
   "metadata": {},
   "source": [
    "## Solving Sudoku Problems\n",
    "\n",
    "Before I create problems from the grids generated above, I need to create a function that will solve the problems and count how many solution the problems have. More specifically I need to check if the function has 0, 1 or more solutions. The reasons for the order of the steps is explained in the **Generating Sudoku Problems** section. \n",
    "\n",
    "Morever, the solving function is enriched by another input. When coordinates are specified in `sudoku_solver()`, the function returns the output with filled in number(s) on the coordinates. When `coords` is left blank, the function returns solved problem. The coordinates should be specified in an array according to the picture below (e.g. `['A1', 'D6']`).\n",
    "\n",
    "<img src=\"def_coords.png\" width=\"328\" height=\"271\"/>\n"
   ]
  },
  {
   "cell_type": "code",
   "execution_count": 7,
   "metadata": {},
   "outputs": [],
   "source": [
    "# check if num can be place at board[row][col]\n",
    "def is_valid(board, row, col, num):\n",
    "    # check the row\n",
    "    if num in board[row, :]:\n",
    "        return False\n",
    "    # check the column\n",
    "    if num in board[:, col]:\n",
    "        return False\n",
    "    # check the 3x3 subgrid\n",
    "    start_row, start_col = 3 * (row // 3), 3 * (col // 3)\n",
    "    if num in board[start_row:start_row + 3, start_col:start_col + 3]:\n",
    "        return False\n",
    "    return True\n",
    "\n",
    "# backtracking function to solve the Sudoku.\n",
    "def backtrack(board, solutions):\n",
    "    for row in range(9):\n",
    "        for col in range(9):\n",
    "            if board[row][col] == 0:  # find an empty cell\n",
    "                for num in range(1, 10):  # try all possible numbers\n",
    "                    if is_valid(board, row, col, num):\n",
    "                        board[row][col] = num\n",
    "                        backtrack(board, solutions)\n",
    "                        if len(solutions) > 1:  # stop if two solutions are found\n",
    "                            return\n",
    "                        board[row][col] = 0  # reset cell for backtracking\n",
    "                return\n",
    "    # if we complete the board, save the solution\n",
    "    solutions.append(''.join(str(num) for num in board.flatten()))\n",
    "    if len(solutions) > 1:  # stop if two solutions are found\n",
    "        return\n",
    "\n",
    "# solve the Sudoku problem\n",
    "def solve_sudoku(board_str, coords=[]):\n",
    "    # convert the input string to a 9x9 matrix\n",
    "    board = np.array([int(char) for char in board_str]).reshape(9, 9)\n",
    "\n",
    "    # to store solutions\n",
    "    solutions = []\n",
    "\n",
    "    # start solving\n",
    "    backtrack(board, solutions)\n",
    "    \n",
    "    # return the solutions as a numpy array\n",
    "    if coords == []:\n",
    "        return np.array(solutions)\n",
    "    \n",
    "    # if coords are specified, return error if there are multiple or no solutions\n",
    "    elif len(solutions) == 0:\n",
    "        return \"ERROR: Sudoku problem is not solvable. Please provide a valid problem.\"\n",
    "    elif len(solutions) == 2:\n",
    "        return \"ERROR: Sudoku problem has multiple solutions. Please provide a problem with a unique solution.\"\n",
    "    \n",
    "    # if coords are specified and only 1 solution exists, return input with filled in coords\n",
    "    row_keys={'A':0,'B':1,'C':2,'D':3,'E':4,'F':5,'G':6,'H':7,'I':8}\n",
    "    \n",
    "    for i in range(len(coords)):\n",
    "        j = row_keys[coords[i][0]]*9 + int(coords[i][1])-1\n",
    "        board_str = [char for char in board_str]\n",
    "        board_str[j] = [char for char in solutions[0]][j]\n",
    "    \n",
    "    return ''.join(char for char in board_str)"
   ]
  },
  {
   "cell_type": "markdown",
   "metadata": {},
   "source": [
    "## Generating Sudoku Problems\n",
    "\n",
    "When the sudoku solving function is defined, I can proceed to creation of sudoku problems. I do it by removing values from the solved sudoku problems and then checking if the created problem has a single valid solution. That explains why I needed to define the solving function in advance. \n",
    "\n",
    "Proper sudoku problem has following [properties](https://en.wikipedia.org/wiki/Mathematics_of_Sudoku):\n",
    "* unique solution\n",
    "* when filled in, the rules for sudoku table at the beginning of this notebook apply\n",
    "* at least 17 clues (filled in numbers)\n",
    "\n",
    "First I define a function that will follow described process."
   ]
  },
  {
   "cell_type": "code",
   "execution_count": 58,
   "metadata": {},
   "outputs": [],
   "source": [
    "def generate_sudoku_problem(filled_sudoku_str):\n",
    "    # convert the input string to a 9x9 board\n",
    "    board = np.array([int(char) for char in filled_sudoku_str]).reshape(9, 9)\n",
    "\n",
    "    # create a list of all positions in the board\n",
    "    positions = list(range(81))\n",
    "    \n",
    "    # shuffle to remove numbers randomly\n",
    "    random.shuffle(positions)\n",
    "    \n",
    "    # generate randomly minimum number of clues to have varying difficulty\n",
    "    min_clues = random.randint(17, 40)\n",
    "\n",
    "    # try to remove numbers while maintaining a unique solution\n",
    "    for pos in positions:\n",
    "        row, col = divmod(pos, 9)\n",
    "        backup = board[row][col]\n",
    "        board[row][col] = 0  # temporarily remove the number\n",
    "\n",
    "        # check if the board still has a unique solution\n",
    "        solutions = []\n",
    "        backtrack(board.copy(), solutions)\n",
    "\n",
    "        # if there is not exactly one solution, put the number back\n",
    "        if len(solutions) != 1:\n",
    "            board[row][col] = backup\n",
    "\n",
    "        # stop when we reach 64 zeros (17 clues)\n",
    "        if np.count_nonzero(board) <= min_clues:\n",
    "            break\n",
    "\n",
    "    # convert the board back to a string\n",
    "    problem_str = ''.join(str(num) for num in board.flatten())\n",
    "    return problem_str"
   ]
  },
  {
   "cell_type": "markdown",
   "metadata": {},
   "source": [
    "The minimum number of clues is generated randomly from a uniform distribution on [17,40] interval. I do this to ensure varying difficulty of the created puzzles. \n",
    "\n",
    "As for the difficulty grading, we took inspiration from [this paper](https://www.researchgate.net/publication/259525699_An_Algorithm_for_Generating_only_Desired_Permutations_for_Solving_Sudoku_Puzzle). That means we judge the difficulty of a sudoku problem based on the number of clues (non-zero values) it has. However, accounting for personal experience, we set the boundaries for each level a bit lower. Also we differ only 3 levels of difficulty: Easy, Medium, and Hard.\n",
    "\n",
    "The boundaries are set accordingly:\n",
    "* Easy: clues ∈ (33,40]\n",
    "* Medium: clues ∈ [24,33]\n",
    "* Hard: clues ∈ [17,24)\n",
    "\n",
    "Now define difficulty grading function and then we can proceed to generation of sudoku problems from the filled in grids created previously. I generate a sudoku problem and assign it a difficulty and store it all in a `NumPy` array."
   ]
  },
  {
   "cell_type": "code",
   "execution_count": 9,
   "metadata": {},
   "outputs": [],
   "source": [
    "def difficulty_grading(sudoku_str):\n",
    "    # convert the input string to a 9x9 board\n",
    "    board = np.array([int(char) for char in sudoku_str]).reshape(9, 9)\n",
    "\n",
    "    # count the number of empty cells\n",
    "    clues = np.count_nonzero(board)\n",
    "\n",
    "    # define the difficulty levels\n",
    "    if clues > 33:\n",
    "        return 'Easy'\n",
    "    elif clues >= 24:\n",
    "        return 'Medium'\n",
    "    else:\n",
    "        return 'Hard'"
   ]
  },
  {
   "cell_type": "markdown",
   "metadata": {},
   "source": [
    "Now let's move to generating sudoku problems and grading them."
   ]
  },
  {
   "cell_type": "code",
   "execution_count": 46,
   "metadata": {},
   "outputs": [],
   "source": [
    "# create empty numpy array to store the results\n",
    "sudoku_output = np.empty(shape=(len(results_array)+1,3), dtype='U81')\n",
    "\n",
    "# define first row as column names\n",
    "sudoku_output[0] = ['Solved', 'Problem', 'Difficulty']\n",
    "\n",
    "# generate sudoku problems and store them in the numpy array\n",
    "for i in range(1,len(results_array)+1):\n",
    "    sudoku_output[i][0] = results_array[i-1]\n",
    "    puzzle = generate_sudoku_problem(results_array[i-1])\n",
    "    sudoku_output[i][1] = puzzle\n",
    "    sudoku_output[i][2] = difficulty_grading(puzzle)"
   ]
  },
  {
   "cell_type": "markdown",
   "metadata": {},
   "source": [
    "While I agree producing 500 sudokus is not very extensive, the time limitation forced us to do so. Anyways, when producing larger number of problems, defining more 'base sudokus' might be necessary. From my experience, one sudoku can be randomly shuffled into nearly 1,000 unique combinations.\n",
    "\n",
    "Even though our sample is rather small, let's now show a histogram of the clues distribution throughout the sample. Please note that less clues suggest more difficult problem, i.e. the ones of hard difficulty are in the left, medium in the middle and easy on the right."
   ]
  },
  {
   "cell_type": "code",
   "execution_count": 62,
   "metadata": {},
   "outputs": [
    {
     "data": {
      "image/png": "[encoded data removed]",
      "text/plain": [
       "<Figure size 640x480 with 1 Axes>"
      ]
     },
     "metadata": {},
     "output_type": "display_data"
    }
   ],
   "source": [
    "# prepare no of clues\n",
    "clues_num = []\n",
    "for i in range(1, len(sudoku_output)):\n",
    "    clues_num+=[sum(1 for char in sudoku_output[i][1] if char!='0')]\n",
    "    \n",
    "# plot the distribution of difficulty levels\n",
    "plt.hist(clues_num, bins=12, color='lightgray', edgecolor='black')\n",
    "\n",
    "# setting x-axis limits\n",
    "plt.xlim(17, 40)\n",
    "\n",
    "# setting y-axis ticks\n",
    "plt.yticks(np.arange(0, max(plt.gca().get_ylim()) + 1, step=5))\n",
    "\n",
    "# adding vertical lines\n",
    "plt.axvline(x=24, color='red', linestyle='--', label='24')\n",
    "plt.axvline(x=33, color='green', linestyle='--', label='33')\n",
    "\n",
    "# adding text labels\n",
    "plt.text(22, max(plt.gca().get_ylim())*0.8, 'Hard', color='red', horizontalalignment='center')\n",
    "plt.text(28.5, max(plt.gca().get_ylim())*0.8, 'Medium', color='blue', horizontalalignment='center')\n",
    "plt.text(35, max(plt.gca().get_ylim())*0.8, 'Easy', color='green', horizontalalignment='center')\n",
    "\n",
    "# adding labels and title\n",
    "plt.xlabel('No of Clues')\n",
    "plt.ylabel('Frequency')\n",
    "plt.title('Histogram with Difficulty Levels')\n",
    "\n",
    "# mark the min and max values on the x-axis\n",
    "plt.text(min(clues_num), -0.65,f'{min(clues_num)}', color='blue', verticalalignment='top', horizontalalignment='center')\n",
    "plt.text(max(clues_num), -0.65,f'{max(clues_num)}', color='blue', verticalalignment='top', horizontalalignment='center')\n",
    "\n",
    "# save the plot\n",
    "plt.savefig('clues_hist.png')\n",
    "\n",
    "# showing the plot\n",
    "plt.show()\n"
   ]
  },
  {
   "cell_type": "markdown",
   "metadata": {},
   "source": [
    "We can see the lowest number of clues and thus the most difficult problems contain 21 clues. The reason why there is no puzzle with less clues even though the code allows it is because it is fairly difficult (though as mentioned not impossible) to find such problem with a unique solution. This also explains the spike in the distribution at around 23 clues. Basically even when the set number of minimum clues is really low, say 17, the function finds a problem with single solution after adding even 6 more clues.\n",
    "\n",
    "The most populous category is Medium. This is not surprising since the range for this category is the broadest. The Easy category is also quite populous and the maximum number of clues in our sample is 40.\n",
    "\n",
    "\n",
    "Let's also export our data into a `.csv` file and save it."
   ]
  },
  {
   "cell_type": "code",
   "execution_count": 57,
   "metadata": {},
   "outputs": [],
   "source": [
    "# export data into a .csv file\n",
    "# extract the title (first row)\n",
    "header = ','.join(sudoku_output[0, :])\n",
    "\n",
    "# save the data to a .csv file\n",
    "np.savetxt('sudoku_puzzles.csv', sudoku_output[1:], delimiter=',', header=header, comments='', fmt='%s')\n"
   ]
  },
  {
   "cell_type": "markdown",
   "metadata": {},
   "source": [
    "## Example\n",
    "\n",
    "Finally, let's show an example usage of our project. Say I have a sudoku puzzle A. "
   ]
  },
  {
   "cell_type": "code",
   "execution_count": 36,
   "metadata": {},
   "outputs": [
    {
     "name": "stdout",
     "output_type": "stream",
     "text": [
      "2 5 0 | 0 3 1 | 0 4 0\n",
      "0 4 0 | 0 0 0 | 0 0 6\n",
      "0 0 0 | 0 8 0 | 0 0 0\n",
      "---------------------\n",
      "0 0 0 | 5 0 0 | 0 0 0\n",
      "0 0 7 | 0 0 0 | 9 0 0\n",
      "3 0 0 | 0 4 2 | 0 6 0\n",
      "---------------------\n",
      "5 0 0 | 6 0 0 | 0 0 0\n",
      "0 0 0 | 8 0 0 | 0 1 0\n",
      "0 0 3 | 0 1 5 | 0 0 7\n"
     ]
    }
   ],
   "source": [
    "# define puzzle A\n",
    "puzzle_A = '250031040040000006000080000000500000007000900300042060500600000000800010003015007'\n",
    "\n",
    "# display the puzzle\n",
    "display_sudoku(puzzle_A)"
   ]
  },
  {
   "cell_type": "markdown",
   "metadata": {},
   "source": [
    "I feel that I might be able to solve it but I am stuck and need a push, a hint per say. Hence I input puzzle A in my solving function with coordinates of the cell I want to reveal. Let's say the cell I want to reveal is `E1`."
   ]
  },
  {
   "cell_type": "code",
   "execution_count": 37,
   "metadata": {},
   "outputs": [
    {
     "name": "stdout",
     "output_type": "stream",
     "text": [
      "2 5 0 | 0 3 1 | 0 4 0\n",
      "0 4 0 | 0 0 0 | 0 0 6\n",
      "0 0 0 | 0 8 0 | 0 0 0\n",
      "---------------------\n",
      "0 0 0 | 5 0 0 | 0 0 0\n",
      "4 0 7 | 0 0 0 | 9 0 0\n",
      "3 0 0 | 0 4 2 | 0 6 0\n",
      "---------------------\n",
      "5 0 0 | 6 0 0 | 0 0 0\n",
      "0 0 0 | 8 0 0 | 0 1 0\n",
      "0 0 3 | 0 1 5 | 0 0 7\n"
     ]
    }
   ],
   "source": [
    "# get a hint and save it\n",
    "puzzle_A=solve_sudoku(puzzle_A,coords=['E1'])\n",
    "\n",
    "# visualize the hint\n",
    "display_sudoku(puzzle_A)"
   ]
  },
  {
   "cell_type": "markdown",
   "metadata": {},
   "source": [
    "Hmm, this wasn't as useful as I hoped it would be. Let's reveal two more cells, `D5` and `G7`."
   ]
  },
  {
   "cell_type": "code",
   "execution_count": 38,
   "metadata": {},
   "outputs": [
    {
     "name": "stdout",
     "output_type": "stream",
     "text": [
      "2 5 0 | 0 3 1 | 0 4 0\n",
      "0 4 0 | 0 0 0 | 0 0 6\n",
      "0 0 0 | 0 8 0 | 0 0 0\n",
      "---------------------\n",
      "0 0 0 | 5 9 0 | 0 0 0\n",
      "4 0 7 | 0 0 0 | 9 0 0\n",
      "3 0 0 | 0 4 2 | 0 6 0\n",
      "---------------------\n",
      "5 0 0 | 6 0 0 | 2 0 0\n",
      "0 0 0 | 8 0 0 | 0 1 0\n",
      "0 0 3 | 0 1 5 | 0 0 7\n"
     ]
    }
   ],
   "source": [
    "# get a hint and save it\n",
    "puzzle_A=solve_sudoku(puzzle_A,coords=['D5', 'G7'])\n",
    "\n",
    "# visualize the hint\n",
    "display_sudoku(puzzle_A)"
   ]
  },
  {
   "cell_type": "markdown",
   "metadata": {},
   "source": [
    "Well this is nice but I just can't figure it out. I don't want to stay stuck with one problem. Let me see the solution."
   ]
  },
  {
   "cell_type": "code",
   "execution_count": 39,
   "metadata": {},
   "outputs": [
    {
     "name": "stdout",
     "output_type": "stream",
     "text": [
      "2 5 6 | 7 3 1 | 8 4 9\n",
      "1 4 8 | 2 5 9 | 3 7 6\n",
      "7 3 9 | 4 8 6 | 5 2 1\n",
      "---------------------\n",
      "8 6 2 | 5 9 7 | 1 3 4\n",
      "4 1 7 | 3 6 8 | 9 5 2\n",
      "3 9 5 | 1 4 2 | 7 6 8\n",
      "---------------------\n",
      "5 8 1 | 6 7 4 | 2 9 3\n",
      "9 7 4 | 8 2 3 | 6 1 5\n",
      "6 2 3 | 9 1 5 | 4 8 7\n"
     ]
    }
   ],
   "source": [
    "# solve the puzzle\n",
    "puzzle_A=solve_sudoku(puzzle_A)\n",
    "\n",
    "# visualize the solution\n",
    "display_sudoku(puzzle_A)"
   ]
  },
  {
   "cell_type": "markdown",
   "metadata": {},
   "source": [
    "Oh I would never get that. Bless this sudoku solver! 😀"
   ]
  }
 ],
 "metadata": {
  "kernelspec": {
   "display_name": "base",
   "language": "python",
   "name": "python3"
  },
  "language_info": {
   "codemirror_mode": {
    "name": "ipython",
    "version": 3
   },
   "file_extension": ".py",
   "mimetype": "text/x-python",
   "name": "python",
   "nbconvert_exporter": "python",
   "pygments_lexer": "ipython3",
   "version": "3.11.5"
  }
 },
 "nbformat": 4,
 "nbformat_minor": 2
}
