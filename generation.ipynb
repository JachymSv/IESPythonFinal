{
 "cells": [
  {
   "cell_type": "markdown",
   "metadata": {},
   "source": [
    "# Sudoku Generation\n",
    "\n",
    "This notebook is used to create functions and use them to create various sudoku grids using sudoku shuffling techniques.\n",
    "\n",
    "A valid sudoku table has following properties: (source: https://en.wikipedia.org/wiki/Sudoku_solving_algorithms )\n",
    "* contains 81 numbers (cells in a 9x9 grid with 9 boxes)\n",
    "* each box being the intersection of the first, middle, or last 3 rows, and the first, middle, or last 3 columns\n",
    "* each cell contains number from 1 to 9\n",
    "* each number can only occur once in each row, column and box\n",
    "\n",
    "In sudoku, you can do following operations to keep the table valid:\n",
    "* swap row/column blocks\n",
    "* swap all occurances of one number with all occurances of another number\n",
    "* swap rows/columns in a block\n",
    "\n",
    "By doing such operations, you can create many new sudoku tables that will eventually result in a different problems using one input. \n",
    "\n",
    "The packages used throughout the code are `NumPy`and `Random`. Let's import them now."
   ]
  },
  {
   "cell_type": "code",
   "execution_count": 227,
   "metadata": {},
   "outputs": [],
   "source": [
    "import random\n",
    "import numpy as np"
   ]
  },
  {
   "cell_type": "markdown",
   "metadata": {},
   "source": [
    "## Creation of Solved Sudokus\n",
    "\n",
    "#### Creation of Necessary Functions\n",
    "Let's now create a set of functions that will randomly apply the rules above on existing sudoku table."
   ]
  },
  {
   "cell_type": "code",
   "execution_count": 92,
   "metadata": {},
   "outputs": [],
   "source": [
    "# swap all occurances of two numbers in a grid\n",
    "def swap_numbers(grid, x, y):\n",
    "    return grid.replace(x, 'x').replace(y, x).replace('x', y)\n",
    "\n",
    "# swap rows within a block\n",
    "def swap_rows(grid):\n",
    "    # extract rows\n",
    "    rows = [grid[i*9:(i+1)*9] for i in range(9)]\n",
    "    \n",
    "    # shuffle rows within blocks\n",
    "    for i in range(0, 9, 3):\n",
    "        block_rows = rows[i:i+3]\n",
    "        random.shuffle(block_rows)\n",
    "        rows[i:i+3] = block_rows\n",
    "    \n",
    "    # reconstruct grid\n",
    "    return ''.join(rows)\n",
    "\n",
    "# swap columns within a block\n",
    "def swap_columns(grid):\n",
    "    # extract columns\n",
    "    columns = []\n",
    "    for i in range(9):\n",
    "        column = [int(grid[j*9 + i]) for j in range(9)]\n",
    "        columns.append(column)\n",
    "    \n",
    "    # shuffle columns within blocks\n",
    "    for i in range(0, 9, 3):\n",
    "        block_columns = columns[i:i+3]\n",
    "        random.shuffle(block_columns)\n",
    "        columns[i:i+3] = block_columns\n",
    "    \n",
    "    # reconstruct grid\n",
    "    return ''.join(''.join(str(columns[j][i]) for j in range(9)) for i in range(9))\n",
    "\n",
    "# swap blocks of rows\n",
    "def swap_row_blocks(grid):\n",
    "    # extract rows\n",
    "    rows = [grid[i*9:(i+1)*9] for i in range(9)]\n",
    "    \n",
    "    # group rows into blocks\n",
    "    row_blocks = [rows[i*3:(i+1)*3] for i in range(3)]\n",
    "    \n",
    "    # shuffle row blocks\n",
    "    random.shuffle(row_blocks)\n",
    "    \n",
    "    # reconstruct grid\n",
    "    return ''.join([''.join(block) for block in row_blocks])\n",
    "\n",
    "# swap blocks of columns\n",
    "def swap_column_blocks(grid):\n",
    "    # extract columns\n",
    "    columns = []\n",
    "    for i in range(9):\n",
    "        column = [int(grid[j*9 + i]) for j in range(9)]\n",
    "        columns.append(column)\n",
    "    \n",
    "    # group columns into blocks\n",
    "    blocks = [columns[i:i+3] for i in range(0, 9, 3)]\n",
    "    \n",
    "    # shuffle column blocks\n",
    "    random.shuffle(blocks)\n",
    "    \n",
    "    # reconstruct grid\n",
    "    shuffled_columns = [col for block in blocks for col in block]\n",
    "    return ''.join(''.join(str(shuffled_columns[j][i]) for j in range(9)) for i in range(9))\n",
    "\n",
    "# generate a randomly shuffled sudoku grid\n",
    "def sudoku_shuffle(grid):\n",
    "    # swap random times two random numbers\n",
    "    reps=random.randint(1, 9)\n",
    "    while reps>0:\n",
    "        num1, num2 = random.sample('123456789', 2)\n",
    "        grid = swap_numbers(grid, num1, num2)\n",
    "        reps-=1\n",
    "    \n",
    "    # swap rows within blocks\n",
    "    grid = swap_row_blocks(grid)\n",
    "    \n",
    "    # swap columns within blocks\n",
    "    grid = swap_column_blocks(grid)\n",
    "    \n",
    "    # swap row blocks\n",
    "    grid = swap_row_blocks(grid)\n",
    "    \n",
    "    # swap column blocks\n",
    "    grid = swap_column_blocks(grid)\n",
    "    \n",
    "    return grid"
   ]
  },
  {
   "cell_type": "markdown",
   "metadata": {},
   "source": [
    "#### Generation of Sudokus\n",
    "\n",
    "Now let's define 1 sudoku grid that we know is valid. How do we know that? We created a code called `valid_sudoku()` that returns `True` if the specified input follows the rules described at the beginning of this notebook and returns `False` otherwise. The following block of code also contains the definition of `display_sudoku()` function that displays the sudoku in a user friendly format.\n",
    "\n",
    "After we define our sudoku grid, we apply on it our function `sudoku_shuffle()` to create 1,000 new grids.\n"
   ]
  },
  {
   "cell_type": "code",
   "execution_count": 212,
   "metadata": {},
   "outputs": [],
   "source": [
    "def valid_sudoku(grid):\n",
    "    # check if the input string has exactly 81 characters and contains only digits from 1 to 9\n",
    "    if len(grid) != 81 or not all(a in '123456789' for a in grid):\n",
    "        return False\n",
    "    \n",
    "    # check rows\n",
    "    for i in range(9):\n",
    "        row = [grid[j] for j in range(i*9, (i+1)*9)]\n",
    "        if not len(row) == len(set(row)):\n",
    "            return False\n",
    "\n",
    "    # check columns\n",
    "    for i in range(9):\n",
    "        column = [grid[j] for j in range(i, 81, 9)]\n",
    "        if not len(column) == len(set(column)):\n",
    "            return False\n",
    "\n",
    "    # check 3x3 sub-grids (boxes)\n",
    "    for i in range(0, 81, 27):  # i goes through the first cell of each 3x3 block in a row group\n",
    "        for j in range(0, 9, 3):  # j goes through each 3x3 block in a row group\n",
    "            box = [grid[k] for k in (\n",
    "                i + j, i + j + 1, i + j + 2,\n",
    "                i + j + 9, i + j + 10, i + j + 11,\n",
    "                i + j + 18, i + j + 19, i + j + 20\n",
    "            )]\n",
    "            if not len(box) == len(set(box)):\n",
    "                return False\n",
    "\n",
    "    return True\n",
    "\n",
    "def display_sudoku(sudoku_str):\n",
    "    # create a 9x9 grid\n",
    "    grid = [[int(sudoku_str[i * 9 + j]) for j in range(9)] for i in range(9)]\n",
    "\n",
    "    # define how to format the grid\n",
    "    lines = []\n",
    "    for i, row in enumerate(grid):\n",
    "        if i % 3 == 0 and i != 0:\n",
    "            lines.append(\"-\" * 21)  # add horizontal separator\n",
    "\n",
    "        line = \"\"\n",
    "        for j, cell in enumerate(row):\n",
    "            if j % 3 == 0 and j != 0:\n",
    "                line += \"| \"  # add vertical separator\n",
    "            line += f\"{cell} \"  # append cell value\n",
    "        lines.append(line.rstrip())\n",
    "\n",
    "    # print the grid\n",
    "    return print(\"\\n\".join(lines)) "
   ]
  },
  {
   "cell_type": "markdown",
   "metadata": {},
   "source": [
    "Let's now define the sudoku, check if it is valid and display it."
   ]
  },
  {
   "cell_type": "code",
   "execution_count": 213,
   "metadata": {},
   "outputs": [
    {
     "name": "stdout",
     "output_type": "stream",
     "text": [
      "1 2 3 | 4 5 6 | 7 8 9\n",
      "4 5 6 | 7 8 9 | 1 2 3\n",
      "7 8 9 | 1 2 3 | 4 5 6\n",
      "---------------------\n",
      "2 3 4 | 5 6 7 | 8 9 1\n",
      "5 6 7 | 8 9 1 | 2 3 4\n",
      "8 9 1 | 2 3 4 | 5 6 7\n",
      "---------------------\n",
      "3 4 5 | 6 7 8 | 9 1 2\n",
      "6 7 8 | 9 1 2 | 3 4 5\n",
      "9 1 2 | 3 4 5 | 6 7 8\n"
     ]
    },
    {
     "data": {
      "text/plain": [
       "(True, None)"
      ]
     },
     "execution_count": 213,
     "metadata": {},
     "output_type": "execute_result"
    }
   ],
   "source": [
    "# sudoku definition\n",
    "sudoku = '123456789456789123789123456234567891567891234891234567345678912678912345912345678'\n",
    "valid_sudoku(sudoku), display_sudoku(sudoku) # should return True"
   ]
  },
  {
   "cell_type": "markdown",
   "metadata": {},
   "source": [
    "Finally, we generate 1,000 shuflles of the inital sudoku. While doing so, we check that the created sudokus are properly defined and then we select only unique outputs. We are using a NumPy array for better performance."
   ]
  },
  {
   "cell_type": "code",
   "execution_count": 220,
   "metadata": {},
   "outputs": [
    {
     "data": {
      "text/plain": [
       "(996,\n",
       " array(['123456879456879123879123456345687912687912345912345687234568791568791234791234568',\n",
       "        '123546789546789123789123546354678912678912354912354678235467891467891235891235467',\n",
       "        '123765489765489123489123765376548912548912376912376548237654891654891237891237654',\n",
       "        '123768495495123768768495123349812576576349812812576349234681957957234681681957234',\n",
       "        '123956784956784123784123956395678412678412395412395678239567841567841239841239567'],\n",
       "       dtype='<U81'))"
      ]
     },
     "execution_count": 220,
     "metadata": {},
     "output_type": "execute_result"
    }
   ],
   "source": [
    "\n",
    "# generate 1000 shuffled sudokus\n",
    "reps_num = 1000\n",
    "results_array = np.empty((reps_num,), dtype='U81')\n",
    "\n",
    "for i in range(reps_num):\n",
    "    if valid_sudoku(sudoku_shuffle(sudoku)):\n",
    "        results_array[i] = sudoku_shuffle(sudoku)\n",
    "\n",
    "# select only unique results  \n",
    "results_array = np.unique(results_array)\n",
    "\n",
    "# check how many unique sudokus were generated and display the first 5\n",
    "results_array.shape[0], results_array[:5]\n"
   ]
  },
  {
   "cell_type": "markdown",
   "metadata": {},
   "source": [
    "## Solving Sudoku Problems\n",
    "\n",
    "Before we create problems from the grids generated above, we need to create a function that will solve the problems and count how many solution the problems have. More specifically we need to check if the function has 0, 1 or more solutions. The reasons for the order of the steps is explained in the **Generating Sudoku Problems** section. \n",
    "\n",
    "Morever, our solving function is enriched by another input. When coordinates are specified in the `sudoku_solver()`, the function returns the output with filled in number on the coordinates. When `coords` is left blank, the function returns solved problem. The coordinates should be specified in an array according to the picture below.\n",
    "\n",
    "<img src=\"def_coords.png\" width=\"328\" height=\"271\"/>\n"
   ]
  },
  {
   "cell_type": "code",
   "execution_count": 234,
   "metadata": {},
   "outputs": [],
   "source": [
    "# check if num can be place at board[row][col]\n",
    "def is_valid(board, row, col, num):\n",
    "    # check the row\n",
    "    if num in board[row, :]:\n",
    "        return False\n",
    "    # check the column\n",
    "    if num in board[:, col]:\n",
    "        return False\n",
    "    # check the 3x3 subgrid\n",
    "    start_row, start_col = 3 * (row // 3), 3 * (col // 3)\n",
    "    if num in board[start_row:start_row + 3, start_col:start_col + 3]:\n",
    "        return False\n",
    "    return True\n",
    "\n",
    "# backtracking function to solve the Sudoku.\n",
    "def backtrack(board, solutions):\n",
    "    for row in range(9):\n",
    "        for col in range(9):\n",
    "            if board[row][col] == 0:  # find an empty cell\n",
    "                for num in range(1, 10):  # try all possible numbers\n",
    "                    if is_valid(board, row, col, num):\n",
    "                        board[row][col] = num\n",
    "                        backtrack(board, solutions)\n",
    "                        if len(solutions) > 1:  # stop if two solutions are found\n",
    "                            return\n",
    "                        board[row][col] = 0  # reset cell for backtracking\n",
    "                return\n",
    "    # if we complete the board, save the solution\n",
    "    solutions.append(''.join(str(num) for num in board.flatten()))\n",
    "    if len(solutions) > 1:  # stop if two solutions are found\n",
    "        return\n",
    "\n",
    "def solve_sudoku(board_str, coords=[]):\n",
    "    # convert the input string to a 9x9 matrix\n",
    "    board = np.array([int(char) for char in board_str]).reshape(9, 9)\n",
    "\n",
    "    # to store solutions\n",
    "    solutions = []\n",
    "\n",
    "    # start solving\n",
    "    backtrack(board, solutions)\n",
    "    \n",
    "    # return the solutions as a numpy array\n",
    "    if coords == []:\n",
    "        return np.array(solutions)\n",
    "    \n",
    "    # if coords are specified, return error if there are multiple or no solutions\n",
    "    elif len(solutions) == 0:\n",
    "        return \"ERROR: Sudoku problem is not solvable. Please provide a valid problem.\"\n",
    "    elif len(solutions) == 2:\n",
    "        return \"ERROR: Sudoku problem has multiple solutions. Please provide a problem with a unique solution.\"\n",
    "    \n",
    "    # if coords are specified and only 1 solution exists, return input with filled in coords\n",
    "    row_keys={'A':0,'B':1,'C':2,'D':3,'E':4,'F':5,'G':6,'H':7,'I':8}\n",
    "    \n",
    "    for i in range(len(coords)):\n",
    "        j = row_keys[coords[i][0]]*9 + int(coords[i][1])-1\n",
    "        board_str = [char for char in board_str]\n",
    "        board_str[j] = [char for char in solutions[0]][j]\n",
    "    \n",
    "    return ''.join(char for char in board_str) "
   ]
  }
 ],
 "metadata": {
  "kernelspec": {
   "display_name": "base",
   "language": "python",
   "name": "python3"
  },
  "language_info": {
   "codemirror_mode": {
    "name": "ipython",
    "version": 3
   },
   "file_extension": ".py",
   "mimetype": "text/x-python",
   "name": "python",
   "nbconvert_exporter": "python",
   "pygments_lexer": "ipython3",
   "version": "3.11.5"
  }
 },
 "nbformat": 4,
 "nbformat_minor": 2
}
