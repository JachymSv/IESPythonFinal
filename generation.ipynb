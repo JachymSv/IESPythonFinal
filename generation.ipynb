{
 "cells": [
  {
   "cell_type": "markdown",
   "metadata": {},
   "source": [
    "# Sudoku Generation\n",
    "\n",
    "This notebook is used to create functions and use them to create various sudoku grids using sudoku shuffling techniques.\n",
    "\n",
    "A valid sudoku table has following properties: (source: https://en.wikipedia.org/wiki/Sudoku_solving_algorithms )\n",
    "* contains 81 numbers (cells in a 9x9 grid with 9 boxes)\n",
    "* each box being the intersection of the first, middle, or last 3 rows, and the first, middle, or last 3 columns\n",
    "* each cell contains number from 1 to 9\n",
    "* each number can only occur once in each row, column and box\n",
    "\n",
    "In sudoku, you can do following operations to keep the table valid:\n",
    "* swap row/column blocks\n",
    "* swap all occurances of one number with all occurances of another number\n",
    "* swap rows/columns in a block\n",
    "\n",
    "By doing such operations, you can create many new sudoku tables that will eventually result in a different problems using one input. \n",
    "\n",
    "## Creation of Solved Sudokus\n",
    "\n",
    "#### Creation of Necessary Functions\n",
    "Let's now create a set of functions that will randomly apply the rules above on existing sudoku table."
   ]
  },
  {
   "cell_type": "code",
   "execution_count": 92,
   "metadata": {},
   "outputs": [],
   "source": [
    "import random \n",
    "\n",
    "# swap all occurances of two numbers in a grid\n",
    "def swap_numbers(grid, x, y):\n",
    "    return grid.replace(x, 'x').replace(y, x).replace('x', y)\n",
    "\n",
    "# swap rows within a block\n",
    "def swap_rows(grid):\n",
    "    # extract rows\n",
    "    rows = [grid[i*9:(i+1)*9] for i in range(9)]\n",
    "    \n",
    "    # shuffle rows within blocks\n",
    "    for i in range(0, 9, 3):\n",
    "        block_rows = rows[i:i+3]\n",
    "        random.shuffle(block_rows)\n",
    "        rows[i:i+3] = block_rows\n",
    "    \n",
    "    # reconstruct grid\n",
    "    return ''.join(rows)\n",
    "\n",
    "# swap columns within a block\n",
    "def swap_columns(grid):\n",
    "    # extract columns\n",
    "    columns = []\n",
    "    for i in range(9):\n",
    "        column = [int(grid[j*9 + i]) for j in range(9)]\n",
    "        columns.append(column)\n",
    "    \n",
    "    # shuffle columns within blocks\n",
    "    for i in range(0, 9, 3):\n",
    "        block_columns = columns[i:i+3]\n",
    "        random.shuffle(block_columns)\n",
    "        columns[i:i+3] = block_columns\n",
    "    \n",
    "    # reconstruct grid\n",
    "    return ''.join(''.join(str(columns[j][i]) for j in range(9)) for i in range(9))\n",
    "\n",
    "# swap blocks of rows\n",
    "def swap_row_blocks(grid):\n",
    "    # extract rows\n",
    "    rows = [grid[i*9:(i+1)*9] for i in range(9)]\n",
    "    \n",
    "    # group rows into blocks\n",
    "    row_blocks = [rows[i*3:(i+1)*3] for i in range(3)]\n",
    "    \n",
    "    # shuffle row blocks\n",
    "    random.shuffle(row_blocks)\n",
    "    \n",
    "    # reconstruct grid\n",
    "    return ''.join([''.join(block) for block in row_blocks])\n",
    "\n",
    "# swap blocks of columns\n",
    "def swap_column_blocks(grid):\n",
    "    # extract columns\n",
    "    columns = []\n",
    "    for i in range(9):\n",
    "        column = [int(grid[j*9 + i]) for j in range(9)]\n",
    "        columns.append(column)\n",
    "    \n",
    "    # group columns into blocks\n",
    "    blocks = [columns[i:i+3] for i in range(0, 9, 3)]\n",
    "    \n",
    "    # shuffle column blocks\n",
    "    random.shuffle(blocks)\n",
    "    \n",
    "    # reconstruct grid\n",
    "    shuffled_columns = [col for block in blocks for col in block]\n",
    "    return ''.join(''.join(str(shuffled_columns[j][i]) for j in range(9)) for i in range(9))\n",
    "\n",
    "# generate a randomly shuffled sudoku grid\n",
    "def sudoku_shuffle(grid):\n",
    "    # swap random times two random numbers\n",
    "    reps=random.randint(1, 9)\n",
    "    while reps>0:\n",
    "        num1, num2 = random.sample('123456789', 2)\n",
    "        grid = swap_numbers(grid, num1, num2)\n",
    "        reps-=1\n",
    "    \n",
    "    # swap rows within blocks\n",
    "    grid = swap_row_blocks(grid)\n",
    "    \n",
    "    # swap columns within blocks\n",
    "    grid = swap_column_blocks(grid)\n",
    "    \n",
    "    # swap row blocks\n",
    "    grid = swap_row_blocks(grid)\n",
    "    \n",
    "    # swap column blocks\n",
    "    grid = swap_column_blocks(grid)\n",
    "    \n",
    "    return grid"
   ]
  },
  {
   "cell_type": "markdown",
   "metadata": {},
   "source": [
    "#### Generation of Sudokus\n",
    "\n",
    "Now let's define 1 sudoku grid that we know is valid. How do we know that? We created a code called `valid_sudoku()` that returns `True` if the specified input follows the rules described at the beginning of this notebook and returns `False` otherwise. The following block of code also contains the definition of `display_sudoku()` function that displays the sudoku in a user friendly format.\n",
    "\n",
    "After we define our sudoku grid, we apply on it our function `sudoku_shuffle()` to create 1,000 new grids.\n"
   ]
  },
  {
   "cell_type": "code",
   "execution_count": 212,
   "metadata": {},
   "outputs": [],
   "source": [
    "def valid_sudoku(grid):\n",
    "    # check if the input string has exactly 81 characters and contains only digits from 1 to 9\n",
    "    if len(grid) != 81 or not all(a in '123456789' for a in grid):\n",
    "        return False\n",
    "    \n",
    "    # check rows\n",
    "    for i in range(9):\n",
    "        row = [grid[j] for j in range(i*9, (i+1)*9)]\n",
    "        if not len(row) == len(set(row)):\n",
    "            return False\n",
    "\n",
    "    # check columns\n",
    "    for i in range(9):\n",
    "        column = [grid[j] for j in range(i, 81, 9)]\n",
    "        if not len(column) == len(set(column)):\n",
    "            return False\n",
    "\n",
    "    # check 3x3 sub-grids (boxes)\n",
    "    for i in range(0, 81, 27):  # i goes through the first cell of each 3x3 block in a row group\n",
    "        for j in range(0, 9, 3):  # j goes through each 3x3 block in a row group\n",
    "            box = [grid[k] for k in (\n",
    "                i + j, i + j + 1, i + j + 2,\n",
    "                i + j + 9, i + j + 10, i + j + 11,\n",
    "                i + j + 18, i + j + 19, i + j + 20\n",
    "            )]\n",
    "            if not len(box) == len(set(box)):\n",
    "                return False\n",
    "\n",
    "    return True\n",
    "\n",
    "def display_sudoku(sudoku_str):\n",
    "    # create a 9x9 grid\n",
    "    grid = [[int(sudoku_str[i * 9 + j]) for j in range(9)] for i in range(9)]\n",
    "\n",
    "    # define how to format the grid\n",
    "    lines = []\n",
    "    for i, row in enumerate(grid):\n",
    "        if i % 3 == 0 and i != 0:\n",
    "            lines.append(\"-\" * 21)  # add horizontal separator\n",
    "\n",
    "        line = \"\"\n",
    "        for j, cell in enumerate(row):\n",
    "            if j % 3 == 0 and j != 0:\n",
    "                line += \"| \"  # add vertical separator\n",
    "            line += f\"{cell} \"  # append cell value\n",
    "        lines.append(line.rstrip())\n",
    "\n",
    "    # print the grid\n",
    "    return print(\"\\n\".join(lines)) "
   ]
  },
  {
   "cell_type": "markdown",
   "metadata": {},
   "source": [
    "Let's now define the sudoku, check if it is valid and display it."
   ]
  },
  {
   "cell_type": "code",
   "execution_count": 213,
   "metadata": {},
   "outputs": [
    {
     "name": "stdout",
     "output_type": "stream",
     "text": [
      "1 2 3 | 4 5 6 | 7 8 9\n",
      "4 5 6 | 7 8 9 | 1 2 3\n",
      "7 8 9 | 1 2 3 | 4 5 6\n",
      "---------------------\n",
      "2 3 4 | 5 6 7 | 8 9 1\n",
      "5 6 7 | 8 9 1 | 2 3 4\n",
      "8 9 1 | 2 3 4 | 5 6 7\n",
      "---------------------\n",
      "3 4 5 | 6 7 8 | 9 1 2\n",
      "6 7 8 | 9 1 2 | 3 4 5\n",
      "9 1 2 | 3 4 5 | 6 7 8\n"
     ]
    },
    {
     "data": {
      "text/plain": [
       "(True, None)"
      ]
     },
     "execution_count": 213,
     "metadata": {},
     "output_type": "execute_result"
    }
   ],
   "source": [
    "# sudoku definition\n",
    "sudoku = '123456789456789123789123456234567891567891234891234567345678912678912345912345678'\n",
    "valid_sudoku(sudoku), display_sudoku(sudoku)"
   ]
  },
  {
   "cell_type": "markdown",
   "metadata": {},
   "source": [
    "Finally, we generate 1,000 shuflles of the inital sudoku. While doing so, we check that the created sudokus are properly defined and then we select only unique outputs. We are using a NumPy array for better performance."
   ]
  },
  {
   "cell_type": "code",
   "execution_count": 214,
   "metadata": {},
   "outputs": [
    {
     "data": {
      "text/plain": [
       "995"
      ]
     },
     "execution_count": 214,
     "metadata": {},
     "output_type": "execute_result"
    }
   ],
   "source": [
    "import numpy as np\n",
    " \n",
    "# generate 1000 shuffled sudokus\n",
    "reps_num = 1000\n",
    "results_array = np.empty((reps_num,), dtype='U81')\n",
    "\n",
    "for i in range(reps_num):\n",
    "    if valid_sudoku(sudoku_shuffle(sudoku)):\n",
    "        results_array[i] = sudoku_shuffle(sudoku)\n",
    "\n",
    "# select only unique results  \n",
    "results_array = np.unique(results_array)\n",
    "\n",
    "# check how many unique sudokus were generated\n",
    "results_array.shape[0]"
   ]
  }
 ],
 "metadata": {
  "kernelspec": {
   "display_name": "base",
   "language": "python",
   "name": "python3"
  },
  "language_info": {
   "codemirror_mode": {
    "name": "ipython",
    "version": 3
   },
   "file_extension": ".py",
   "mimetype": "text/x-python",
   "name": "python",
   "nbconvert_exporter": "python",
   "pygments_lexer": "ipython3",
   "version": "3.11.5"
  }
 },
 "nbformat": 4,
 "nbformat_minor": 2
}
