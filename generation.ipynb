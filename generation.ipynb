{
 "cells": [
  {
   "cell_type": "markdown",
   "metadata": {},
   "source": [
    "# Sudoku Generation\n",
    "\n",
    "This notebook is used to create functions and use them to create various sudoku grids using sudoku shuffling techniques.\n",
    "\n",
    "A valid sudoku table has following properties: (source: https://en.wikipedia.org/wiki/Sudoku_solving_algorithms )\n",
    "1. contains 81 numbers (cells in a 9x9 grid with 9 boxes)\n",
    "2. each box being the intersection of the first, middle, or last 3 rows, and the first, middle, or last 3 columns\n",
    "3. each cell contains number from 1 to 9\n",
    "4. each number can only occur once in each row, column and box\n",
    "\n",
    "In sudoku, you can do following operations to keep the table valid:\n",
    "1. swap row/column blocks\n",
    "2. swap all occurances of one number with all occurances of another number\n",
    "3. swap rows/columns in a block\n",
    "\n",
    "By doing such operations, you can create many new sudoku tables that will eventually result in a different problems using one input. \n",
    "\n",
    "Let's now create a set of functions that will randomly apply the rules above on existing sudoku table."
   ]
  },
  {
   "cell_type": "code",
   "execution_count": null,
   "metadata": {},
   "outputs": [],
   "source": [
    "import random \n",
    "\n",
    "#swap all occurances of two numbers in a grid\n",
    "def swap_numbers(grid, x, y):\n",
    "    return grid.replace(x, 'x').replace(y, x).replace('x', y)\n",
    "\n",
    "#swap rows within a block\n",
    "def swap_rows(grid):\n",
    "    #extract rows\n",
    "    rows = [grid[i*9:(i+1)*9] for i in range(9)]\n",
    "    \n",
    "    #shuffle rows within blocks\n",
    "    for i in range(0, 9, 3):\n",
    "        block_rows = rows[i:i+3]\n",
    "        random.shuffle(block_rows)\n",
    "        rows[i:i+3] = block_rows\n",
    "    \n",
    "    #reconstruct grid\n",
    "    return ''.join(rows)\n",
    "\n",
    "#swap columns within a block\n",
    "def swap_columns(grid):\n",
    "    #extract columns\n",
    "    columns = []\n",
    "    for i in range(9):\n",
    "        column = [int(grid[j*9 + i]) for j in range(9)]\n",
    "        columns.append(column)\n",
    "    \n",
    "    #shuffle columns within blocks\n",
    "    for i in range(0, 9, 3):\n",
    "        block_columns = columns[i:i+3]\n",
    "        random.shuffle(block_columns)\n",
    "        columns[i:i+3] = block_columns\n",
    "    \n",
    "    #reconstruct grid\n",
    "    return ''.join(''.join(str(columns[j][i]) for j in range(9)) for i in range(9))\n"
   ]
  }
 ],
 "metadata": {
  "kernelspec": {
   "display_name": "base",
   "language": "python",
   "name": "python3"
  },
  "language_info": {
   "codemirror_mode": {
    "name": "ipython",
    "version": 3
   },
   "file_extension": ".py",
   "mimetype": "text/x-python",
   "name": "python",
   "nbconvert_exporter": "python",
   "pygments_lexer": "ipython3",
   "version": "3.11.5"
  }
 },
 "nbformat": 4,
 "nbformat_minor": 2
}
